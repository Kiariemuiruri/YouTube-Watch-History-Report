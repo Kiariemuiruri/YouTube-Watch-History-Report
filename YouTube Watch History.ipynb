{
 "cells": [
  {
   "cell_type": "markdown",
   "metadata": {},
   "source": [
    "## *Personal YouTube Watch History Report*\n",
    "#### *Data is Available from Oct 2018 to Feb 2022*"
   ]
  },
  {
   "cell_type": "code",
   "execution_count": 115,
   "metadata": {},
   "outputs": [],
   "source": [
    "from pathlib import Path\n",
    "import pandas as pd\n",
    "import matplotlib.pyplot as plt\n",
    "from itertools import islice\n",
    "import warnings\n",
    "\n",
    "warnings.simplefilter('ignore')\n",
    "%matplotlib inline"
   ]
  },
  {
   "cell_type": "markdown",
   "metadata": {},
   "source": [
    "#### Preview the text data containing watch dates"
   ]
  },
  {
   "cell_type": "code",
   "execution_count": 116,
   "metadata": {
    "scrolled": true
   },
   "outputs": [
    {
     "name": "stdout",
     "output_type": "stream",
     "text": [
      "['Feb 2023, 16:31:55 EAT\\n', 'Feb 2023, 17:48:22 EAT\\n', 'Feb 2023, 17:48:14 EAT\\n', 'Feb 2023, 17:47:15 EAT\\n', 'Feb 2023, 17:46:45 EAT\\n', 'Feb 2023, 17:46:26 EAT\\n', 'Feb 2023, 17:45:43 EAT\\n', 'Feb 2023, 17:45:28 EAT\\n', 'Feb 2023, 17:45:13 EAT\\n', 'Feb 2023, 17:45:03 EAT\\n', 'Feb 2023, 17:44:35 EAT\\n', 'Feb 2023, 17:44:21 EAT\\n', 'Feb 2023, 17:43:56 EAT\\n', 'Feb 2023, 17:43:35 EAT\\n', 'Feb 2023, 17:43:12 EAT\\n', 'Feb 2023, 17:43:11 EAT\\n', 'Feb 2023, 17:42:29 EAT\\n', 'Feb 2023, 17:41:47 EAT\\n', 'Feb 2023, 17:41:47 EAT\\n', 'Feb 2023, 17:41:32 EAT\\n']\n"
     ]
    }
   ],
   "source": [
    "file = Path.cwd() / 'watch_history.txt'\n",
    "\n",
    "with open(file, 'r') as text:\n",
    "    head = list(islice(text, 20))\n",
    "print(head)"
   ]
  },
  {
   "cell_type": "markdown",
   "metadata": {},
   "source": [
    "#### Create a dataframe from the text file"
   ]
  },
  {
   "cell_type": "code",
   "execution_count": 79,
   "metadata": {},
   "outputs": [
    {
     "data": {
      "text/html": [
       "<div>\n",
       "<style scoped>\n",
       "    .dataframe tbody tr th:only-of-type {\n",
       "        vertical-align: middle;\n",
       "    }\n",
       "\n",
       "    .dataframe tbody tr th {\n",
       "        vertical-align: top;\n",
       "    }\n",
       "\n",
       "    .dataframe thead th {\n",
       "        text-align: right;\n",
       "    }\n",
       "</style>\n",
       "<table border=\"1\" class=\"dataframe\">\n",
       "  <thead>\n",
       "    <tr style=\"text-align: right;\">\n",
       "      <th></th>\n",
       "      <th>datetime</th>\n",
       "    </tr>\n",
       "  </thead>\n",
       "  <tbody>\n",
       "    <tr>\n",
       "      <th>Feb 2023</th>\n",
       "      <td>16:31:55 EAT</td>\n",
       "    </tr>\n",
       "    <tr>\n",
       "      <th>Feb 2023</th>\n",
       "      <td>17:48:22 EAT</td>\n",
       "    </tr>\n",
       "    <tr>\n",
       "      <th>Feb 2023</th>\n",
       "      <td>17:48:14 EAT</td>\n",
       "    </tr>\n",
       "    <tr>\n",
       "      <th>Feb 2023</th>\n",
       "      <td>17:47:15 EAT</td>\n",
       "    </tr>\n",
       "    <tr>\n",
       "      <th>Feb 2023</th>\n",
       "      <td>17:46:45 EAT</td>\n",
       "    </tr>\n",
       "    <tr>\n",
       "      <th>...</th>\n",
       "      <td>...</td>\n",
       "    </tr>\n",
       "    <tr>\n",
       "      <th>Oct 2018</th>\n",
       "      <td>22:39:36 EAT</td>\n",
       "    </tr>\n",
       "    <tr>\n",
       "      <th>Oct 2018</th>\n",
       "      <td>22:35:28 EAT</td>\n",
       "    </tr>\n",
       "    <tr>\n",
       "      <th>Oct 2018</th>\n",
       "      <td>22:31:04 EAT</td>\n",
       "    </tr>\n",
       "    <tr>\n",
       "      <th>Oct 2018</th>\n",
       "      <td>22:27:05 EAT</td>\n",
       "    </tr>\n",
       "    <tr>\n",
       "      <th>Oct 2018</th>\n",
       "      <td>22:24:33 EAT</td>\n",
       "    </tr>\n",
       "  </tbody>\n",
       "</table>\n",
       "<p>11216 rows × 1 columns</p>\n",
       "</div>"
      ],
      "text/plain": [
       "               datetime\n",
       "Feb 2023   16:31:55 EAT\n",
       "Feb 2023   17:48:22 EAT\n",
       "Feb 2023   17:48:14 EAT\n",
       "Feb 2023   17:47:15 EAT\n",
       "Feb 2023   17:46:45 EAT\n",
       "...                 ...\n",
       "Oct 2018   22:39:36 EAT\n",
       "Oct 2018   22:35:28 EAT\n",
       "Oct 2018   22:31:04 EAT\n",
       "Oct 2018   22:27:05 EAT\n",
       "Oct 2018   22:24:33 EAT\n",
       "\n",
       "[11216 rows x 1 columns]"
      ]
     },
     "execution_count": 79,
     "metadata": {},
     "output_type": "execute_result"
    }
   ],
   "source": [
    "new = pd.read_csv('watch_history.txt', sep=',', names=['datetime'])\n",
    "new"
   ]
  },
  {
   "cell_type": "code",
   "execution_count": 86,
   "metadata": {},
   "outputs": [
    {
     "data": {
      "text/html": [
       "<div>\n",
       "<style scoped>\n",
       "    .dataframe tbody tr th:only-of-type {\n",
       "        vertical-align: middle;\n",
       "    }\n",
       "\n",
       "    .dataframe tbody tr th {\n",
       "        vertical-align: top;\n",
       "    }\n",
       "\n",
       "    .dataframe thead th {\n",
       "        text-align: right;\n",
       "    }\n",
       "</style>\n",
       "<table border=\"1\" class=\"dataframe\">\n",
       "  <thead>\n",
       "    <tr style=\"text-align: right;\">\n",
       "      <th></th>\n",
       "      <th>datetime</th>\n",
       "      <th>Time</th>\n",
       "      <th>Date</th>\n",
       "    </tr>\n",
       "  </thead>\n",
       "  <tbody>\n",
       "    <tr>\n",
       "      <th>Feb 2020</th>\n",
       "      <td>20:27:50 EAT</td>\n",
       "      <td>20:27:50</td>\n",
       "      <td>Feb 2020</td>\n",
       "    </tr>\n",
       "    <tr>\n",
       "      <th>Jan 2023</th>\n",
       "      <td>18:54:12 EAT</td>\n",
       "      <td>18:54:12</td>\n",
       "      <td>Jan 2023</td>\n",
       "    </tr>\n",
       "    <tr>\n",
       "      <th>Jun 2022</th>\n",
       "      <td>16:08:29 EAT</td>\n",
       "      <td>16:08:29</td>\n",
       "      <td>Jun 2022</td>\n",
       "    </tr>\n",
       "    <tr>\n",
       "      <th>Apr 2022</th>\n",
       "      <td>15:26:48 EAT</td>\n",
       "      <td>15:26:48</td>\n",
       "      <td>Apr 2022</td>\n",
       "    </tr>\n",
       "    <tr>\n",
       "      <th>Jul 2022</th>\n",
       "      <td>22:30:04 EAT</td>\n",
       "      <td>22:30:04</td>\n",
       "      <td>Jul 2022</td>\n",
       "    </tr>\n",
       "    <tr>\n",
       "      <th>Feb 2022</th>\n",
       "      <td>13:06:04 EAT</td>\n",
       "      <td>13:06:04</td>\n",
       "      <td>Feb 2022</td>\n",
       "    </tr>\n",
       "    <tr>\n",
       "      <th>Mar 2022</th>\n",
       "      <td>22:53:05 EAT</td>\n",
       "      <td>22:53:05</td>\n",
       "      <td>Mar 2022</td>\n",
       "    </tr>\n",
       "    <tr>\n",
       "      <th>Feb 2022</th>\n",
       "      <td>15:18:18 EAT</td>\n",
       "      <td>15:18:18</td>\n",
       "      <td>Feb 2022</td>\n",
       "    </tr>\n",
       "    <tr>\n",
       "      <th>May 2022</th>\n",
       "      <td>21:55:51 EAT</td>\n",
       "      <td>21:55:51</td>\n",
       "      <td>May 2022</td>\n",
       "    </tr>\n",
       "    <tr>\n",
       "      <th>May 2022</th>\n",
       "      <td>19:59:48 EAT</td>\n",
       "      <td>19:59:48</td>\n",
       "      <td>May 2022</td>\n",
       "    </tr>\n",
       "  </tbody>\n",
       "</table>\n",
       "</div>"
      ],
      "text/plain": [
       "               datetime      Time      Date\n",
       "Feb 2020   20:27:50 EAT  20:27:50  Feb 2020\n",
       "Jan 2023   18:54:12 EAT  18:54:12  Jan 2023\n",
       "Jun 2022   16:08:29 EAT  16:08:29  Jun 2022\n",
       "Apr 2022   15:26:48 EAT  15:26:48  Apr 2022\n",
       "Jul 2022   22:30:04 EAT  22:30:04  Jul 2022\n",
       "Feb 2022   13:06:04 EAT  13:06:04  Feb 2022\n",
       "Mar 2022   22:53:05 EAT  22:53:05  Mar 2022\n",
       "Feb 2022   15:18:18 EAT  15:18:18  Feb 2022\n",
       "May 2022   21:55:51 EAT  21:55:51  May 2022\n",
       "May 2022   19:59:48 EAT  19:59:48  May 2022"
      ]
     },
     "execution_count": 86,
     "metadata": {},
     "output_type": "execute_result"
    }
   ],
   "source": [
    "new['Time'] = new['datetime'].apply(lambda x: str(x)[:9].strip())\n",
    "new['Date'] = new.index\n",
    "new.sample(10)"
   ]
  },
  {
   "cell_type": "markdown",
   "metadata": {},
   "source": [
    "#### Data Processing and cleaning"
   ]
  },
  {
   "cell_type": "code",
   "execution_count": 93,
   "metadata": {},
   "outputs": [
    {
     "name": "stdout",
     "output_type": "stream",
     "text": [
      "<class 'pandas.core.frame.DataFrame'>\n",
      "Index: 11216 entries, Feb 2023 to Oct 2018\n",
      "Data columns (total 2 columns):\n",
      " #   Column  Non-Null Count  Dtype         \n",
      "---  ------  --------------  -----         \n",
      " 0   Date    11216 non-null  datetime64[ns]\n",
      " 1   Time    11216 non-null  datetime64[ns]\n",
      "dtypes: datetime64[ns](2)\n",
      "memory usage: 219.1+ KB\n"
     ]
    }
   ],
   "source": [
    "data_df = new[['Date','Time']]\n",
    "data_df['Date']  = pd.to_datetime(data_df['Date'])\n",
    "data_df['Time'] = pd.to_datetime(data_df['Time'])\n",
    "data_df.info()"
   ]
  },
  {
   "cell_type": "code",
   "execution_count": 95,
   "metadata": {},
   "outputs": [
    {
     "data": {
      "text/html": [
       "<div>\n",
       "<style scoped>\n",
       "    .dataframe tbody tr th:only-of-type {\n",
       "        vertical-align: middle;\n",
       "    }\n",
       "\n",
       "    .dataframe tbody tr th {\n",
       "        vertical-align: top;\n",
       "    }\n",
       "\n",
       "    .dataframe thead th {\n",
       "        text-align: right;\n",
       "    }\n",
       "</style>\n",
       "<table border=\"1\" class=\"dataframe\">\n",
       "  <thead>\n",
       "    <tr style=\"text-align: right;\">\n",
       "      <th></th>\n",
       "      <th>Date</th>\n",
       "      <th>Time</th>\n",
       "      <th>month</th>\n",
       "      <th>hour</th>\n",
       "    </tr>\n",
       "  </thead>\n",
       "  <tbody>\n",
       "    <tr>\n",
       "      <th>Feb 2023</th>\n",
       "      <td>2023-02-01</td>\n",
       "      <td>2023-02-13 16:31:55</td>\n",
       "      <td>2</td>\n",
       "      <td>16</td>\n",
       "    </tr>\n",
       "    <tr>\n",
       "      <th>Feb 2023</th>\n",
       "      <td>2023-02-01</td>\n",
       "      <td>2023-02-13 17:48:22</td>\n",
       "      <td>2</td>\n",
       "      <td>17</td>\n",
       "    </tr>\n",
       "    <tr>\n",
       "      <th>Feb 2023</th>\n",
       "      <td>2023-02-01</td>\n",
       "      <td>2023-02-13 17:48:14</td>\n",
       "      <td>2</td>\n",
       "      <td>17</td>\n",
       "    </tr>\n",
       "    <tr>\n",
       "      <th>Feb 2023</th>\n",
       "      <td>2023-02-01</td>\n",
       "      <td>2023-02-13 17:47:15</td>\n",
       "      <td>2</td>\n",
       "      <td>17</td>\n",
       "    </tr>\n",
       "    <tr>\n",
       "      <th>Feb 2023</th>\n",
       "      <td>2023-02-01</td>\n",
       "      <td>2023-02-13 17:46:45</td>\n",
       "      <td>2</td>\n",
       "      <td>17</td>\n",
       "    </tr>\n",
       "    <tr>\n",
       "      <th>...</th>\n",
       "      <td>...</td>\n",
       "      <td>...</td>\n",
       "      <td>...</td>\n",
       "      <td>...</td>\n",
       "    </tr>\n",
       "    <tr>\n",
       "      <th>Oct 2018</th>\n",
       "      <td>2018-10-01</td>\n",
       "      <td>2023-02-13 22:39:36</td>\n",
       "      <td>10</td>\n",
       "      <td>22</td>\n",
       "    </tr>\n",
       "    <tr>\n",
       "      <th>Oct 2018</th>\n",
       "      <td>2018-10-01</td>\n",
       "      <td>2023-02-13 22:35:28</td>\n",
       "      <td>10</td>\n",
       "      <td>22</td>\n",
       "    </tr>\n",
       "    <tr>\n",
       "      <th>Oct 2018</th>\n",
       "      <td>2018-10-01</td>\n",
       "      <td>2023-02-13 22:31:04</td>\n",
       "      <td>10</td>\n",
       "      <td>22</td>\n",
       "    </tr>\n",
       "    <tr>\n",
       "      <th>Oct 2018</th>\n",
       "      <td>2018-10-01</td>\n",
       "      <td>2023-02-13 22:27:05</td>\n",
       "      <td>10</td>\n",
       "      <td>22</td>\n",
       "    </tr>\n",
       "    <tr>\n",
       "      <th>Oct 2018</th>\n",
       "      <td>2018-10-01</td>\n",
       "      <td>2023-02-13 22:24:33</td>\n",
       "      <td>10</td>\n",
       "      <td>22</td>\n",
       "    </tr>\n",
       "  </tbody>\n",
       "</table>\n",
       "<p>11216 rows × 4 columns</p>\n",
       "</div>"
      ],
      "text/plain": [
       "               Date                Time  month  hour\n",
       "Feb 2023 2023-02-01 2023-02-13 16:31:55      2    16\n",
       "Feb 2023 2023-02-01 2023-02-13 17:48:22      2    17\n",
       "Feb 2023 2023-02-01 2023-02-13 17:48:14      2    17\n",
       "Feb 2023 2023-02-01 2023-02-13 17:47:15      2    17\n",
       "Feb 2023 2023-02-01 2023-02-13 17:46:45      2    17\n",
       "...             ...                 ...    ...   ...\n",
       "Oct 2018 2018-10-01 2023-02-13 22:39:36     10    22\n",
       "Oct 2018 2018-10-01 2023-02-13 22:35:28     10    22\n",
       "Oct 2018 2018-10-01 2023-02-13 22:31:04     10    22\n",
       "Oct 2018 2018-10-01 2023-02-13 22:27:05     10    22\n",
       "Oct 2018 2018-10-01 2023-02-13 22:24:33     10    22\n",
       "\n",
       "[11216 rows x 4 columns]"
      ]
     },
     "execution_count": 95,
     "metadata": {},
     "output_type": "execute_result"
    }
   ],
   "source": [
    "data_df['month'] = data_df['Date'].dt.month\n",
    "data_df['hour'] = data_df['Time'].dt.hour\n",
    "data_df"
   ]
  },
  {
   "cell_type": "markdown",
   "metadata": {},
   "source": [
    "### At what Hour do I use YouTube more?"
   ]
  },
  {
   "cell_type": "code",
   "execution_count": 99,
   "metadata": {},
   "outputs": [
    {
     "data": {
      "image/png": "[encoded data removed]",
      "text/plain": [
       "<Figure size 720x576 with 1 Axes>"
      ]
     },
     "metadata": {
      "needs_background": "light"
     },
     "output_type": "display_data"
    }
   ],
   "source": [
    "hours = [hour for hour, df in data_df.groupby('hour')]\n",
    "\n",
    "plt.figure(figsize=(10,8))\n",
    "plt.plot(hours, data_df.groupby(['hour']).count(), color='b')\n",
    "plt.xlabel('Hour')\n",
    "plt.ylabel('Videos Watched ')\n",
    "plt.xticks(hours)\n",
    "plt.grid();"
   ]
  },
  {
   "cell_type": "markdown",
   "metadata": {},
   "source": [
    "### In which month have I used YouTube most?"
   ]
  },
  {
   "cell_type": "code",
   "execution_count": 98,
   "metadata": {},
   "outputs": [
    {
     "data": {
      "image/png": "[encoded data removed]",
      "text/plain": [
       "<Figure size 720x576 with 1 Axes>"
      ]
     },
     "metadata": {
      "needs_background": "light"
     },
     "output_type": "display_data"
    }
   ],
   "source": [
    "months = [month for month, df in data_df.groupby('month')]\n",
    "\n",
    "plt.figure(figsize=(10,8))\n",
    "plt.plot(months, data_df.groupby(['month']).count(), color='b')\n",
    "plt.xlabel('Month')\n",
    "plt.ylabel('Videos Watched')\n",
    "plt.xticks(months)\n",
    "plt.grid();"
   ]
  }
 ],
 "metadata": {
  "kernelspec": {
   "display_name": "Python 3",
   "language": "python",
   "name": "python3"
  },
  "language_info": {
   "codemirror_mode": {
    "name": "ipython",
    "version": 3
   },
   "file_extension": ".py",
   "mimetype": "text/x-python",
   "name": "python",
   "nbconvert_exporter": "python",
   "pygments_lexer": "ipython3",
   "version": "3.8.5"
  }
 },
 "nbformat": 4,
 "nbformat_minor": 4
}
